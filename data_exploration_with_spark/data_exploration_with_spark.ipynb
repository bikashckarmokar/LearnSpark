{
 "cells": [
  {
   "cell_type": "markdown",
   "metadata": {},
   "source": [
    "# Context \n",
    "\n",
    "H-1B visas are a category of employment-based, non-immigrant visas for temporary foreign workers in the United States. For a foreign national to apply for H1-B visa, a US employer must offer them a job and submit a petition for a H-1B visa to the US immigration department. This is also the most common visa status applied for and held by international students once they complete college or higher education and begin working in a full-time position.\n",
    "\n",
    "The following articles contain more information about the H-1B visa process:\n",
    "\n",
    "* [What is H1B LCA ? Why file it ? Salary, Processing times – DOL](https://redbus2us.com/what-is-h1b-lca-why-file-it-salary-processing-times-dol/)\n",
    "* [H1B Application Process: Step by Step Guide](http://www.immi-usa.com/h1b-application-process-step-by-step-guide/)\n",
    "\n",
    "# Content\n",
    "\n",
    "This dataset contains five year's worth of H-1B petition data, with approximately 3 million records overall. The columns in the dataset include case status, employer name, worksite coordinates, job title, prevailing wage, occupation code, and year filed.\n",
    "\n",
    "For more information on individual columns, refer to the column metadata. A detailed description of the underlying raw dataset is available in [an official data dictionary](https://www.foreignlaborcert.doleta.gov/docs/Performance_Data/Disclosure/FY15-FY16/H-1B_FY16_Record_Layout.pdf).\n",
    "\n",
    "# Acknowledgements\n",
    "\n",
    "The Office of Foreign Labor Certification (OFLC) generates program data, including data about H1-B visas. The disclosure data updated annually and is available [online](https://www.foreignlaborcert.doleta.gov/performancedata.cfm).\n",
    "\n",
    "The raw data available is messy and not immediately suitable analysis. A set of data transformations were performed making the data more accessible for quick exploration. To learn more, refer to [this blog post](https://sharan-naribole.github.io/2017/02/24/h1b-eda-part-I.html) and to the complimentary [R Notebook](https://github.com/sharan-naribole/H1B_visa_eda/blob/master/data_processing.Rmd).\n",
    "\n",
    "# Inspiration\n",
    "\n",
    "* Is the number of petitions with Data Engineer job title increasing over time?\n",
    "* Which part of the US has the most Hardware Engineer jobs?\n",
    "* Which industry has the most number of Data Scientist positions?\n",
    "* Which employers file the most petitions each year?"
   ]
  },
  {
   "cell_type": "code",
   "execution_count": 54,
   "metadata": {},
   "outputs": [],
   "source": [
    "from pyspark.sql import SparkSession\n",
    "from pyspark.sql.types import BooleanType, LongType, ShortType, DoubleType\n",
    "import pandas as pd\n",
    "import numpy as np\n",
    "import matplotlib.pyplot as plt"
   ]
  },
  {
   "cell_type": "markdown",
   "metadata": {},
   "source": [
    "We load a (local) SparkSession"
   ]
  },
  {
   "cell_type": "code",
   "execution_count": 2,
   "metadata": {},
   "outputs": [],
   "source": [
    "spark = SparkSession.builder\\\n",
    "                    .master(\"local\")\\\n",
    "                    .appName(\"Data Exploration With Spark\")\\\n",
    "                    .getOrCreate()"
   ]
  },
  {
   "cell_type": "markdown",
   "metadata": {},
   "source": [
    "## Loading the data"
   ]
  },
  {
   "cell_type": "code",
   "execution_count": 55,
   "metadata": {},
   "outputs": [],
   "source": [
    "df = spark.read.load(\"data/h1b_kaggle.csv\",\n",
    "                     format=\"csv\",\n",
    "                     header=\"true\",\n",
    "                     inferSchema=\"true\")"
   ]
  },
  {
   "cell_type": "code",
   "execution_count": 56,
   "metadata": {},
   "outputs": [
    {
     "name": "stdout",
     "output_type": "stream",
     "text": [
      "root\n",
      " |-- _c0: integer (nullable = true)\n",
      " |-- CASE_STATUS: string (nullable = true)\n",
      " |-- EMPLOYER_NAME: string (nullable = true)\n",
      " |-- SOC_NAME: string (nullable = true)\n",
      " |-- JOB_TITLE: string (nullable = true)\n",
      " |-- FULL_TIME_POSITION: string (nullable = true)\n",
      " |-- PREVAILING_WAGE: string (nullable = true)\n",
      " |-- YEAR: string (nullable = true)\n",
      " |-- WORKSITE: string (nullable = true)\n",
      " |-- lon: string (nullable = true)\n",
      " |-- lat: string (nullable = true)\n",
      "\n"
     ]
    }
   ],
   "source": [
    "df.printSchema()"
   ]
  },
  {
   "cell_type": "markdown",
   "metadata": {},
   "source": [
    "Everything is string! We should definitely change this."
   ]
  },
  {
   "cell_type": "code",
   "execution_count": 57,
   "metadata": {},
   "outputs": [],
   "source": [
    "df = df.withColumn(\"FULL_TIME_POSITION\", df[\"FULL_TIME_POSITION\"].cast(BooleanType()))\\\n",
    "       .withColumn(\"PREVAILING_WAGE\", df[\"PREVAILING_WAGE\"].cast(LongType()))\\\n",
    "       .withColumn(\"YEAR\", df[\"YEAR\"].cast(ShortType()))\\\n",
    "       .withColumn(\"lon\", df[\"lon\"].cast(DoubleType()))\\\n",
    "       .withColumn(\"lat\", df[\"lat\"].cast(DoubleType()))"
   ]
  },
  {
   "cell_type": "code",
   "execution_count": 58,
   "metadata": {},
   "outputs": [
    {
     "name": "stdout",
     "output_type": "stream",
     "text": [
      "root\n",
      " |-- _c0: integer (nullable = true)\n",
      " |-- CASE_STATUS: string (nullable = true)\n",
      " |-- EMPLOYER_NAME: string (nullable = true)\n",
      " |-- SOC_NAME: string (nullable = true)\n",
      " |-- JOB_TITLE: string (nullable = true)\n",
      " |-- FULL_TIME_POSITION: boolean (nullable = true)\n",
      " |-- PREVAILING_WAGE: long (nullable = true)\n",
      " |-- YEAR: short (nullable = true)\n",
      " |-- WORKSITE: string (nullable = true)\n",
      " |-- lon: double (nullable = true)\n",
      " |-- lat: double (nullable = true)\n",
      "\n"
     ]
    }
   ],
   "source": [
    "df.printSchema()"
   ]
  },
  {
   "cell_type": "markdown",
   "metadata": {},
   "source": [
    "Now it makes more sense!"
   ]
  },
  {
   "cell_type": "code",
   "execution_count": 59,
   "metadata": {},
   "outputs": [
    {
     "data": {
      "text/html": [
       "<div>\n",
       "<style scoped>\n",
       "    .dataframe tbody tr th:only-of-type {\n",
       "        vertical-align: middle;\n",
       "    }\n",
       "\n",
       "    .dataframe tbody tr th {\n",
       "        vertical-align: top;\n",
       "    }\n",
       "\n",
       "    .dataframe thead th {\n",
       "        text-align: right;\n",
       "    }\n",
       "</style>\n",
       "<table border=\"1\" class=\"dataframe\">\n",
       "  <thead>\n",
       "    <tr style=\"text-align: right;\">\n",
       "      <th></th>\n",
       "      <th>_c0</th>\n",
       "      <th>CASE_STATUS</th>\n",
       "      <th>EMPLOYER_NAME</th>\n",
       "      <th>SOC_NAME</th>\n",
       "      <th>JOB_TITLE</th>\n",
       "      <th>FULL_TIME_POSITION</th>\n",
       "      <th>PREVAILING_WAGE</th>\n",
       "      <th>YEAR</th>\n",
       "      <th>WORKSITE</th>\n",
       "      <th>lon</th>\n",
       "      <th>lat</th>\n",
       "    </tr>\n",
       "  </thead>\n",
       "  <tbody>\n",
       "    <tr>\n",
       "      <th>0</th>\n",
       "      <td>1</td>\n",
       "      <td>CERTIFIED-WITHDRAWN</td>\n",
       "      <td>UNIVERSITY OF MICHIGAN</td>\n",
       "      <td>BIOCHEMISTS AND BIOPHYSICISTS</td>\n",
       "      <td>POSTDOCTORAL RESEARCH FELLOW</td>\n",
       "      <td>False</td>\n",
       "      <td>36067</td>\n",
       "      <td>2016</td>\n",
       "      <td>ANN ARBOR, MICHIGAN</td>\n",
       "      <td>-83.743038</td>\n",
       "      <td>42.280826</td>\n",
       "    </tr>\n",
       "    <tr>\n",
       "      <th>1</th>\n",
       "      <td>2</td>\n",
       "      <td>CERTIFIED-WITHDRAWN</td>\n",
       "      <td>GOODMAN NETWORKS, INC.</td>\n",
       "      <td>CHIEF EXECUTIVES</td>\n",
       "      <td>CHIEF OPERATING OFFICER</td>\n",
       "      <td>True</td>\n",
       "      <td>242674</td>\n",
       "      <td>2016</td>\n",
       "      <td>PLANO, TEXAS</td>\n",
       "      <td>-96.698886</td>\n",
       "      <td>33.019843</td>\n",
       "    </tr>\n",
       "    <tr>\n",
       "      <th>2</th>\n",
       "      <td>3</td>\n",
       "      <td>CERTIFIED-WITHDRAWN</td>\n",
       "      <td>PORTS AMERICA GROUP, INC.</td>\n",
       "      <td>CHIEF EXECUTIVES</td>\n",
       "      <td>CHIEF PROCESS OFFICER</td>\n",
       "      <td>True</td>\n",
       "      <td>193066</td>\n",
       "      <td>2016</td>\n",
       "      <td>JERSEY CITY, NEW JERSEY</td>\n",
       "      <td>-74.077642</td>\n",
       "      <td>40.728158</td>\n",
       "    </tr>\n",
       "    <tr>\n",
       "      <th>3</th>\n",
       "      <td>4</td>\n",
       "      <td>CERTIFIED-WITHDRAWN</td>\n",
       "      <td>GATES CORPORATION, A WHOLLY-OWNED SUBSIDIARY O...</td>\n",
       "      <td>CHIEF EXECUTIVES</td>\n",
       "      <td>REGIONAL PRESIDEN, AMERICAS</td>\n",
       "      <td>True</td>\n",
       "      <td>220314</td>\n",
       "      <td>2016</td>\n",
       "      <td>DENVER, COLORADO</td>\n",
       "      <td>-104.990251</td>\n",
       "      <td>39.739236</td>\n",
       "    </tr>\n",
       "    <tr>\n",
       "      <th>4</th>\n",
       "      <td>5</td>\n",
       "      <td>WITHDRAWN</td>\n",
       "      <td>PEABODY INVESTMENTS CORP.</td>\n",
       "      <td>CHIEF EXECUTIVES</td>\n",
       "      <td>PRESIDENT MONGOLIA AND INDIA</td>\n",
       "      <td>True</td>\n",
       "      <td>157518</td>\n",
       "      <td>2016</td>\n",
       "      <td>ST. LOUIS, MISSOURI</td>\n",
       "      <td>-90.199404</td>\n",
       "      <td>38.627003</td>\n",
       "    </tr>\n",
       "    <tr>\n",
       "      <th>5</th>\n",
       "      <td>6</td>\n",
       "      <td>CERTIFIED-WITHDRAWN</td>\n",
       "      <td>BURGER KING CORPORATION</td>\n",
       "      <td>CHIEF EXECUTIVES</td>\n",
       "      <td>EXECUTIVE V P, GLOBAL DEVELOPMENT AND PRESIDEN...</td>\n",
       "      <td>True</td>\n",
       "      <td>225000</td>\n",
       "      <td>2016</td>\n",
       "      <td>MIAMI, FLORIDA</td>\n",
       "      <td>-80.191790</td>\n",
       "      <td>25.761680</td>\n",
       "    </tr>\n",
       "    <tr>\n",
       "      <th>6</th>\n",
       "      <td>7</td>\n",
       "      <td>CERTIFIED-WITHDRAWN</td>\n",
       "      <td>BT AND MK ENERGY AND COMMODITIES</td>\n",
       "      <td>CHIEF EXECUTIVES</td>\n",
       "      <td>CHIEF OPERATING OFFICER</td>\n",
       "      <td>True</td>\n",
       "      <td>91021</td>\n",
       "      <td>2016</td>\n",
       "      <td>HOUSTON, TEXAS</td>\n",
       "      <td>-95.369803</td>\n",
       "      <td>29.760427</td>\n",
       "    </tr>\n",
       "    <tr>\n",
       "      <th>7</th>\n",
       "      <td>8</td>\n",
       "      <td>CERTIFIED-WITHDRAWN</td>\n",
       "      <td>GLOBO MOBILE TECHNOLOGIES, INC.</td>\n",
       "      <td>CHIEF EXECUTIVES</td>\n",
       "      <td>CHIEF OPERATIONS OFFICER</td>\n",
       "      <td>True</td>\n",
       "      <td>150000</td>\n",
       "      <td>2016</td>\n",
       "      <td>SAN JOSE, CALIFORNIA</td>\n",
       "      <td>-121.886329</td>\n",
       "      <td>37.338208</td>\n",
       "    </tr>\n",
       "    <tr>\n",
       "      <th>8</th>\n",
       "      <td>9</td>\n",
       "      <td>CERTIFIED-WITHDRAWN</td>\n",
       "      <td>ESI COMPANIES INC.</td>\n",
       "      <td>CHIEF EXECUTIVES</td>\n",
       "      <td>PRESIDENT</td>\n",
       "      <td>True</td>\n",
       "      <td>127546</td>\n",
       "      <td>2016</td>\n",
       "      <td>MEMPHIS, TEXAS</td>\n",
       "      <td>NaN</td>\n",
       "      <td>NaN</td>\n",
       "    </tr>\n",
       "    <tr>\n",
       "      <th>9</th>\n",
       "      <td>10</td>\n",
       "      <td>WITHDRAWN</td>\n",
       "      <td>LESSARD INTERNATIONAL LLC</td>\n",
       "      <td>CHIEF EXECUTIVES</td>\n",
       "      <td>PRESIDENT</td>\n",
       "      <td>True</td>\n",
       "      <td>154648</td>\n",
       "      <td>2016</td>\n",
       "      <td>VIENNA, VIRGINIA</td>\n",
       "      <td>-77.265260</td>\n",
       "      <td>38.901223</td>\n",
       "    </tr>\n",
       "  </tbody>\n",
       "</table>\n",
       "</div>"
      ],
      "text/plain": [
       "   _c0          CASE_STATUS  \\\n",
       "0    1  CERTIFIED-WITHDRAWN   \n",
       "1    2  CERTIFIED-WITHDRAWN   \n",
       "2    3  CERTIFIED-WITHDRAWN   \n",
       "3    4  CERTIFIED-WITHDRAWN   \n",
       "4    5            WITHDRAWN   \n",
       "5    6  CERTIFIED-WITHDRAWN   \n",
       "6    7  CERTIFIED-WITHDRAWN   \n",
       "7    8  CERTIFIED-WITHDRAWN   \n",
       "8    9  CERTIFIED-WITHDRAWN   \n",
       "9   10            WITHDRAWN   \n",
       "\n",
       "                                       EMPLOYER_NAME  \\\n",
       "0                             UNIVERSITY OF MICHIGAN   \n",
       "1                             GOODMAN NETWORKS, INC.   \n",
       "2                          PORTS AMERICA GROUP, INC.   \n",
       "3  GATES CORPORATION, A WHOLLY-OWNED SUBSIDIARY O...   \n",
       "4                          PEABODY INVESTMENTS CORP.   \n",
       "5                            BURGER KING CORPORATION   \n",
       "6                   BT AND MK ENERGY AND COMMODITIES   \n",
       "7                    GLOBO MOBILE TECHNOLOGIES, INC.   \n",
       "8                                 ESI COMPANIES INC.   \n",
       "9                          LESSARD INTERNATIONAL LLC   \n",
       "\n",
       "                        SOC_NAME  \\\n",
       "0  BIOCHEMISTS AND BIOPHYSICISTS   \n",
       "1               CHIEF EXECUTIVES   \n",
       "2               CHIEF EXECUTIVES   \n",
       "3               CHIEF EXECUTIVES   \n",
       "4               CHIEF EXECUTIVES   \n",
       "5               CHIEF EXECUTIVES   \n",
       "6               CHIEF EXECUTIVES   \n",
       "7               CHIEF EXECUTIVES   \n",
       "8               CHIEF EXECUTIVES   \n",
       "9               CHIEF EXECUTIVES   \n",
       "\n",
       "                                           JOB_TITLE  FULL_TIME_POSITION  \\\n",
       "0                       POSTDOCTORAL RESEARCH FELLOW               False   \n",
       "1                            CHIEF OPERATING OFFICER                True   \n",
       "2                              CHIEF PROCESS OFFICER                True   \n",
       "3                        REGIONAL PRESIDEN, AMERICAS                True   \n",
       "4                       PRESIDENT MONGOLIA AND INDIA                True   \n",
       "5  EXECUTIVE V P, GLOBAL DEVELOPMENT AND PRESIDEN...                True   \n",
       "6                            CHIEF OPERATING OFFICER                True   \n",
       "7                           CHIEF OPERATIONS OFFICER                True   \n",
       "8                                          PRESIDENT                True   \n",
       "9                                          PRESIDENT                True   \n",
       "\n",
       "   PREVAILING_WAGE  YEAR                 WORKSITE         lon        lat  \n",
       "0            36067  2016      ANN ARBOR, MICHIGAN  -83.743038  42.280826  \n",
       "1           242674  2016             PLANO, TEXAS  -96.698886  33.019843  \n",
       "2           193066  2016  JERSEY CITY, NEW JERSEY  -74.077642  40.728158  \n",
       "3           220314  2016         DENVER, COLORADO -104.990251  39.739236  \n",
       "4           157518  2016      ST. LOUIS, MISSOURI  -90.199404  38.627003  \n",
       "5           225000  2016           MIAMI, FLORIDA  -80.191790  25.761680  \n",
       "6            91021  2016           HOUSTON, TEXAS  -95.369803  29.760427  \n",
       "7           150000  2016     SAN JOSE, CALIFORNIA -121.886329  37.338208  \n",
       "8           127546  2016           MEMPHIS, TEXAS         NaN        NaN  \n",
       "9           154648  2016         VIENNA, VIRGINIA  -77.265260  38.901223  "
      ]
     },
     "execution_count": 59,
     "metadata": {},
     "output_type": "execute_result"
    }
   ],
   "source": [
    "pd.DataFrame(df.take(10), columns=df.columns)"
   ]
  },
  {
   "cell_type": "markdown",
   "metadata": {},
   "source": [
    "Are there any repeated rows?"
   ]
  },
  {
   "cell_type": "code",
   "execution_count": 79,
   "metadata": {},
   "outputs": [
    {
     "data": {
      "text/plain": [
       "3002458"
      ]
     },
     "execution_count": 79,
     "metadata": {},
     "output_type": "execute_result"
    }
   ],
   "source": [
    "df.count()"
   ]
  },
  {
   "cell_type": "code",
   "execution_count": 61,
   "metadata": {},
   "outputs": [
    {
     "data": {
      "text/plain": [
       "3002458"
      ]
     },
     "execution_count": 61,
     "metadata": {},
     "output_type": "execute_result"
    }
   ],
   "source": [
    "df.distinct().count()"
   ]
  },
  {
   "cell_type": "markdown",
   "metadata": {},
   "source": [
    "It appearts all rows are unique. What about NA values?"
   ]
  },
  {
   "cell_type": "code",
   "execution_count": 64,
   "metadata": {},
   "outputs": [
    {
     "data": {
      "text/plain": [
       "2894761"
      ]
     },
     "execution_count": 64,
     "metadata": {},
     "output_type": "execute_result"
    }
   ],
   "source": [
    "df.na.drop().count()"
   ]
  },
  {
   "cell_type": "markdown",
   "metadata": {},
   "source": [
    "May it be that most NA values come from the lat & lon columns?"
   ]
  },
  {
   "cell_type": "code",
   "execution_count": 71,
   "metadata": {},
   "outputs": [
    {
     "name": "stdout",
     "output_type": "stream",
     "text": [
      "_c0 3002458\n",
      "CASE_STATUS 3002458\n",
      "EMPLOYER_NAME 3002458\n",
      "SOC_NAME 3002458\n",
      "JOB_TITLE 3002458\n",
      "FULL_TIME_POSITION 3002413\n",
      "PREVAILING_WAGE 3001967\n",
      "YEAR 3002415\n",
      "WORKSITE 3002458\n",
      "lon 2895195\n",
      "lat 2895209\n"
     ]
    }
   ],
   "source": [
    "for column in df.columns:\n",
    "    print(column, df.na.drop(subset=[column]).count())"
   ]
  },
  {
   "cell_type": "markdown",
   "metadata": {},
   "source": [
    "Yes, it seems that most NA values come from the lat & lon columns, while a few hundreds of NA are in the PREVAILING_WAGE column."
   ]
  },
  {
   "cell_type": "code",
   "execution_count": 84,
   "metadata": {},
   "outputs": [
    {
     "data": {
      "text/html": [
       "<div>\n",
       "<style scoped>\n",
       "    .dataframe tbody tr th:only-of-type {\n",
       "        vertical-align: middle;\n",
       "    }\n",
       "\n",
       "    .dataframe tbody tr th {\n",
       "        vertical-align: top;\n",
       "    }\n",
       "\n",
       "    .dataframe thead th {\n",
       "        text-align: right;\n",
       "    }\n",
       "</style>\n",
       "<table border=\"1\" class=\"dataframe\">\n",
       "  <thead>\n",
       "    <tr style=\"text-align: right;\">\n",
       "      <th></th>\n",
       "      <th>0</th>\n",
       "      <th>1</th>\n",
       "      <th>2</th>\n",
       "      <th>3</th>\n",
       "      <th>4</th>\n",
       "    </tr>\n",
       "  </thead>\n",
       "  <tbody>\n",
       "    <tr>\n",
       "      <th>_c0</th>\n",
       "      <td>count</td>\n",
       "      <td>mean</td>\n",
       "      <td>stddev</td>\n",
       "      <td>min</td>\n",
       "      <td>max</td>\n",
       "    </tr>\n",
       "    <tr>\n",
       "      <th>CASE_STATUS</th>\n",
       "      <td>3002458</td>\n",
       "      <td>1501229.5</td>\n",
       "      <td>866735.1116028279</td>\n",
       "      <td>1</td>\n",
       "      <td>3002458</td>\n",
       "    </tr>\n",
       "    <tr>\n",
       "      <th>EMPLOYER_NAME</th>\n",
       "      <td>3002458</td>\n",
       "      <td>None</td>\n",
       "      <td>None</td>\n",
       "      <td>CERTIFIED</td>\n",
       "      <td>WITHDRAWN</td>\n",
       "    </tr>\n",
       "    <tr>\n",
       "      <th>SOC_NAME</th>\n",
       "      <td>3002458</td>\n",
       "      <td>3.218588665E8</td>\n",
       "      <td>2.2409937148797384E8</td>\n",
       "      <td>\"\"\"EXCELLENT COMPUTING DISTRIBUTORS INC\"\"\"</td>\n",
       "      <td>ËNIMAI, INC.</td>\n",
       "    </tr>\n",
       "    <tr>\n",
       "      <th>JOB_TITLE</th>\n",
       "      <td>3002458</td>\n",
       "      <td>None</td>\n",
       "      <td>None</td>\n",
       "      <td>D/B/A/ THE ROHATYN GROUP\"</td>\n",
       "      <td>Zoologists and Wildlife Biologists</td>\n",
       "    </tr>\n",
       "    <tr>\n",
       "      <th>FULL_TIME_POSITION</th>\n",
       "      <td>3002458</td>\n",
       "      <td>238095.35</td>\n",
       "      <td>2011997.0630112377</td>\n",
       "      <td>\"\"\"BUSINESS SYSTEM ANALYST\"</td>\n",
       "      <td>TEST ANALYST - US</td>\n",
       "    </tr>\n",
       "    <tr>\n",
       "      <th>PREVAILING_WAGE</th>\n",
       "      <td>3001967</td>\n",
       "      <td>146924.89643923467</td>\n",
       "      <td>5287283.137188399</td>\n",
       "      <td>0</td>\n",
       "      <td>6997606720</td>\n",
       "    </tr>\n",
       "    <tr>\n",
       "      <th>YEAR</th>\n",
       "      <td>3002415</td>\n",
       "      <td>2013.8550280357645</td>\n",
       "      <td>1.6806138144451777</td>\n",
       "      <td>2011</td>\n",
       "      <td>2016</td>\n",
       "    </tr>\n",
       "    <tr>\n",
       "      <th>WORKSITE</th>\n",
       "      <td>3002458</td>\n",
       "      <td>1523.8567095766666</td>\n",
       "      <td>901.9284495964259</td>\n",
       "      <td>\"O\"\"FALLEN</td>\n",
       "      <td>FORT WASHINGTON, PENNSYLVANIA</td>\n",
       "    </tr>\n",
       "    <tr>\n",
       "      <th>lon</th>\n",
       "      <td>2895195</td>\n",
       "      <td>-92.1342144142733</td>\n",
       "      <td>19.65698073584893</td>\n",
       "      <td>-157.8583333</td>\n",
       "      <td>145.7297891</td>\n",
       "    </tr>\n",
       "    <tr>\n",
       "      <th>lat</th>\n",
       "      <td>2895209</td>\n",
       "      <td>38.159703489293484</td>\n",
       "      <td>4.6832489077191175</td>\n",
       "      <td>-95.6349463</td>\n",
       "      <td>64.8377778</td>\n",
       "    </tr>\n",
       "  </tbody>\n",
       "</table>\n",
       "</div>"
      ],
      "text/plain": [
       "                          0                   1                     2  \\\n",
       "_c0                   count                mean                stddev   \n",
       "CASE_STATUS         3002458           1501229.5     866735.1116028279   \n",
       "EMPLOYER_NAME       3002458                None                  None   \n",
       "SOC_NAME            3002458       3.218588665E8  2.2409937148797384E8   \n",
       "JOB_TITLE           3002458                None                  None   \n",
       "FULL_TIME_POSITION  3002458           238095.35    2011997.0630112377   \n",
       "PREVAILING_WAGE     3001967  146924.89643923467     5287283.137188399   \n",
       "YEAR                3002415  2013.8550280357645    1.6806138144451777   \n",
       "WORKSITE            3002458  1523.8567095766666     901.9284495964259   \n",
       "lon                 2895195   -92.1342144142733     19.65698073584893   \n",
       "lat                 2895209  38.159703489293484    4.6832489077191175   \n",
       "\n",
       "                                                             3  \\\n",
       "_c0                                                        min   \n",
       "CASE_STATUS                                                  1   \n",
       "EMPLOYER_NAME                                        CERTIFIED   \n",
       "SOC_NAME            \"\"\"EXCELLENT COMPUTING DISTRIBUTORS INC\"\"\"   \n",
       "JOB_TITLE                            D/B/A/ THE ROHATYN GROUP\"   \n",
       "FULL_TIME_POSITION                 \"\"\"BUSINESS SYSTEM ANALYST\"   \n",
       "PREVAILING_WAGE                                              0   \n",
       "YEAR                                                      2011   \n",
       "WORKSITE                                            \"O\"\"FALLEN   \n",
       "lon                                               -157.8583333   \n",
       "lat                                                -95.6349463   \n",
       "\n",
       "                                                     4  \n",
       "_c0                                                max  \n",
       "CASE_STATUS                                    3002458  \n",
       "EMPLOYER_NAME                                WITHDRAWN  \n",
       "SOC_NAME                                  ËNIMAI, INC.  \n",
       "JOB_TITLE           Zoologists and Wildlife Biologists  \n",
       "FULL_TIME_POSITION                   TEST ANALYST - US  \n",
       "PREVAILING_WAGE                             6997606720  \n",
       "YEAR                                              2016  \n",
       "WORKSITE                 FORT WASHINGTON, PENNSYLVANIA  \n",
       "lon                                        145.7297891  \n",
       "lat                                         64.8377778  "
      ]
     },
     "execution_count": 84,
     "metadata": {},
     "output_type": "execute_result"
    }
   ],
   "source": [
    "pd.DataFrame(df.describe().take(20), columns=df.columns).transpose()"
   ]
  },
  {
   "cell_type": "markdown",
   "metadata": {},
   "source": [
    "Let's start with taking a look at the H1Bs by the status of their visa applications."
   ]
  },
  {
   "cell_type": "code",
   "execution_count": 128,
   "metadata": {},
   "outputs": [
    {
     "data": {
      "text/html": [
       "<div>\n",
       "<style scoped>\n",
       "    .dataframe tbody tr th:only-of-type {\n",
       "        vertical-align: middle;\n",
       "    }\n",
       "\n",
       "    .dataframe tbody tr th {\n",
       "        vertical-align: top;\n",
       "    }\n",
       "\n",
       "    .dataframe thead th {\n",
       "        text-align: right;\n",
       "    }\n",
       "</style>\n",
       "<table border=\"1\" class=\"dataframe\">\n",
       "  <thead>\n",
       "    <tr style=\"text-align: right;\">\n",
       "      <th></th>\n",
       "      <th>0</th>\n",
       "    </tr>\n",
       "  </thead>\n",
       "  <tbody>\n",
       "    <tr>\n",
       "      <th>0</th>\n",
       "      <td>CERTIFIED</td>\n",
       "    </tr>\n",
       "    <tr>\n",
       "      <th>1</th>\n",
       "      <td>CERTIFIED-WITHDRAWN</td>\n",
       "    </tr>\n",
       "    <tr>\n",
       "      <th>2</th>\n",
       "      <td>DENIED</td>\n",
       "    </tr>\n",
       "    <tr>\n",
       "      <th>3</th>\n",
       "      <td>INVALIDATED</td>\n",
       "    </tr>\n",
       "    <tr>\n",
       "      <th>4</th>\n",
       "      <td>NA</td>\n",
       "    </tr>\n",
       "    <tr>\n",
       "      <th>5</th>\n",
       "      <td>PENDING QUALITY AND COMPLIANCE REVIEW - UNASSI...</td>\n",
       "    </tr>\n",
       "    <tr>\n",
       "      <th>6</th>\n",
       "      <td>REJECTED</td>\n",
       "    </tr>\n",
       "    <tr>\n",
       "      <th>7</th>\n",
       "      <td>WITHDRAWN</td>\n",
       "    </tr>\n",
       "  </tbody>\n",
       "</table>\n",
       "</div>"
      ],
      "text/plain": [
       "                                                   0\n",
       "0                                          CERTIFIED\n",
       "1                                CERTIFIED-WITHDRAWN\n",
       "2                                             DENIED\n",
       "3                                        INVALIDATED\n",
       "4                                                 NA\n",
       "5  PENDING QUALITY AND COMPLIANCE REVIEW - UNASSI...\n",
       "6                                           REJECTED\n",
       "7                                          WITHDRAWN"
      ]
     },
     "execution_count": 128,
     "metadata": {},
     "output_type": "execute_result"
    }
   ],
   "source": [
    "pd.DataFrame(df.select(\"CASE_STATUS\").distinct().sort(\"CASE_STATUS\").take(10))"
   ]
  },
  {
   "cell_type": "code",
   "execution_count": 137,
   "metadata": {},
   "outputs": [
    {
     "data": {
      "text/plain": [
       "13"
      ]
     },
     "execution_count": 137,
     "metadata": {},
     "output_type": "execute_result"
    }
   ],
   "source": [
    "df.filter(df.CASE_STATUS == \"NA\").count()"
   ]
  },
  {
   "cell_type": "markdown",
   "metadata": {},
   "source": [
    "Cross Tabulation provides a table of the frequency distribution for a set of variables."
   ]
  },
  {
   "cell_type": "code",
   "execution_count": 134,
   "metadata": {},
   "outputs": [
    {
     "data": {
      "text/html": [
       "<div>\n",
       "<style scoped>\n",
       "    .dataframe tbody tr th:only-of-type {\n",
       "        vertical-align: middle;\n",
       "    }\n",
       "\n",
       "    .dataframe tbody tr th {\n",
       "        vertical-align: top;\n",
       "    }\n",
       "\n",
       "    .dataframe thead th {\n",
       "        text-align: right;\n",
       "    }\n",
       "</style>\n",
       "<table border=\"1\" class=\"dataframe\">\n",
       "  <thead>\n",
       "    <tr style=\"text-align: right;\">\n",
       "      <th></th>\n",
       "      <th>EMPLOYER_NAME</th>\n",
       "      <th>CERTIFIED</th>\n",
       "      <th>CERTIFIED-WITHDRAWN</th>\n",
       "      <th>DENIED</th>\n",
       "      <th>INVALIDATED</th>\n",
       "      <th>NA</th>\n",
       "      <th>PENDING REVIEW</th>\n",
       "      <th>REJECTED</th>\n",
       "      <th>WITHDRAWN</th>\n",
       "    </tr>\n",
       "  </thead>\n",
       "  <tbody>\n",
       "    <tr>\n",
       "      <th>0</th>\n",
       "      <td>PATHWAY BIOLOGIC, LLC</td>\n",
       "      <td>1</td>\n",
       "      <td>0</td>\n",
       "      <td>0</td>\n",
       "      <td>0</td>\n",
       "      <td>0</td>\n",
       "      <td>0</td>\n",
       "      <td>0</td>\n",
       "      <td>0</td>\n",
       "    </tr>\n",
       "    <tr>\n",
       "      <th>1</th>\n",
       "      <td>TCL RESEARCH AMERICA, INC.</td>\n",
       "      <td>14</td>\n",
       "      <td>0</td>\n",
       "      <td>0</td>\n",
       "      <td>0</td>\n",
       "      <td>0</td>\n",
       "      <td>0</td>\n",
       "      <td>0</td>\n",
       "      <td>1</td>\n",
       "    </tr>\n",
       "    <tr>\n",
       "      <th>2</th>\n",
       "      <td>UNIVERSITY OF MAINE</td>\n",
       "      <td>97</td>\n",
       "      <td>1</td>\n",
       "      <td>3</td>\n",
       "      <td>0</td>\n",
       "      <td>0</td>\n",
       "      <td>0</td>\n",
       "      <td>0</td>\n",
       "      <td>5</td>\n",
       "    </tr>\n",
       "    <tr>\n",
       "      <th>3</th>\n",
       "      <td>P2F HOLDINGS</td>\n",
       "      <td>2</td>\n",
       "      <td>0</td>\n",
       "      <td>0</td>\n",
       "      <td>0</td>\n",
       "      <td>0</td>\n",
       "      <td>0</td>\n",
       "      <td>0</td>\n",
       "      <td>0</td>\n",
       "    </tr>\n",
       "    <tr>\n",
       "      <th>4</th>\n",
       "      <td>M2S, INC.</td>\n",
       "      <td>11</td>\n",
       "      <td>0</td>\n",
       "      <td>0</td>\n",
       "      <td>0</td>\n",
       "      <td>0</td>\n",
       "      <td>0</td>\n",
       "      <td>0</td>\n",
       "      <td>0</td>\n",
       "    </tr>\n",
       "    <tr>\n",
       "      <th>5</th>\n",
       "      <td>NANOVIRICIDES INC</td>\n",
       "      <td>1</td>\n",
       "      <td>0</td>\n",
       "      <td>2</td>\n",
       "      <td>0</td>\n",
       "      <td>0</td>\n",
       "      <td>0</td>\n",
       "      <td>0</td>\n",
       "      <td>0</td>\n",
       "    </tr>\n",
       "    <tr>\n",
       "      <th>6</th>\n",
       "      <td>ARIZONA CANCER SPECIALISTS, PLC</td>\n",
       "      <td>1</td>\n",
       "      <td>0</td>\n",
       "      <td>0</td>\n",
       "      <td>0</td>\n",
       "      <td>0</td>\n",
       "      <td>0</td>\n",
       "      <td>0</td>\n",
       "      <td>0</td>\n",
       "    </tr>\n",
       "    <tr>\n",
       "      <th>7</th>\n",
       "      <td>CLARITY MONEY, INC.</td>\n",
       "      <td>1</td>\n",
       "      <td>0</td>\n",
       "      <td>0</td>\n",
       "      <td>0</td>\n",
       "      <td>0</td>\n",
       "      <td>0</td>\n",
       "      <td>0</td>\n",
       "      <td>0</td>\n",
       "    </tr>\n",
       "    <tr>\n",
       "      <th>8</th>\n",
       "      <td>W.R. BERKLEY CORPORATION</td>\n",
       "      <td>5</td>\n",
       "      <td>0</td>\n",
       "      <td>0</td>\n",
       "      <td>0</td>\n",
       "      <td>0</td>\n",
       "      <td>0</td>\n",
       "      <td>0</td>\n",
       "      <td>2</td>\n",
       "    </tr>\n",
       "    <tr>\n",
       "      <th>9</th>\n",
       "      <td>S. VINODKUMAR USA INC.</td>\n",
       "      <td>4</td>\n",
       "      <td>0</td>\n",
       "      <td>0</td>\n",
       "      <td>0</td>\n",
       "      <td>0</td>\n",
       "      <td>0</td>\n",
       "      <td>0</td>\n",
       "      <td>0</td>\n",
       "    </tr>\n",
       "    <tr>\n",
       "      <th>10</th>\n",
       "      <td>CENTRAL FLORIDA BROADCAT</td>\n",
       "      <td>0</td>\n",
       "      <td>0</td>\n",
       "      <td>1</td>\n",
       "      <td>0</td>\n",
       "      <td>0</td>\n",
       "      <td>0</td>\n",
       "      <td>0</td>\n",
       "      <td>0</td>\n",
       "    </tr>\n",
       "    <tr>\n",
       "      <th>11</th>\n",
       "      <td>SPECIAL OPTICS,INC</td>\n",
       "      <td>1</td>\n",
       "      <td>0</td>\n",
       "      <td>0</td>\n",
       "      <td>0</td>\n",
       "      <td>0</td>\n",
       "      <td>0</td>\n",
       "      <td>0</td>\n",
       "      <td>0</td>\n",
       "    </tr>\n",
       "    <tr>\n",
       "      <th>12</th>\n",
       "      <td>SWEETWATER COUNTY</td>\n",
       "      <td>1</td>\n",
       "      <td>0</td>\n",
       "      <td>0</td>\n",
       "      <td>0</td>\n",
       "      <td>0</td>\n",
       "      <td>0</td>\n",
       "      <td>0</td>\n",
       "      <td>0</td>\n",
       "    </tr>\n",
       "    <tr>\n",
       "      <th>13</th>\n",
       "      <td>WONDERTREATS, INC.</td>\n",
       "      <td>2</td>\n",
       "      <td>0</td>\n",
       "      <td>0</td>\n",
       "      <td>0</td>\n",
       "      <td>0</td>\n",
       "      <td>0</td>\n",
       "      <td>0</td>\n",
       "      <td>0</td>\n",
       "    </tr>\n",
       "    <tr>\n",
       "      <th>14</th>\n",
       "      <td>T.K.CHEN INTERNATIONAL ADVISORS, LTD.</td>\n",
       "      <td>1</td>\n",
       "      <td>0</td>\n",
       "      <td>0</td>\n",
       "      <td>0</td>\n",
       "      <td>0</td>\n",
       "      <td>0</td>\n",
       "      <td>0</td>\n",
       "      <td>0</td>\n",
       "    </tr>\n",
       "    <tr>\n",
       "      <th>15</th>\n",
       "      <td>THE GRENADIER CORPORATION</td>\n",
       "      <td>1</td>\n",
       "      <td>0</td>\n",
       "      <td>0</td>\n",
       "      <td>0</td>\n",
       "      <td>0</td>\n",
       "      <td>0</td>\n",
       "      <td>0</td>\n",
       "      <td>0</td>\n",
       "    </tr>\n",
       "    <tr>\n",
       "      <th>16</th>\n",
       "      <td>MCCONNOR MEADE RISK MANAGEMENT LLC</td>\n",
       "      <td>1</td>\n",
       "      <td>0</td>\n",
       "      <td>0</td>\n",
       "      <td>0</td>\n",
       "      <td>0</td>\n",
       "      <td>0</td>\n",
       "      <td>0</td>\n",
       "      <td>0</td>\n",
       "    </tr>\n",
       "    <tr>\n",
       "      <th>17</th>\n",
       "      <td>SONORA COMMUNITY HOSPITAL</td>\n",
       "      <td>1</td>\n",
       "      <td>0</td>\n",
       "      <td>0</td>\n",
       "      <td>0</td>\n",
       "      <td>0</td>\n",
       "      <td>0</td>\n",
       "      <td>0</td>\n",
       "      <td>0</td>\n",
       "    </tr>\n",
       "    <tr>\n",
       "      <th>18</th>\n",
       "      <td>JOBHIVE, INC.</td>\n",
       "      <td>1</td>\n",
       "      <td>0</td>\n",
       "      <td>0</td>\n",
       "      <td>0</td>\n",
       "      <td>0</td>\n",
       "      <td>0</td>\n",
       "      <td>0</td>\n",
       "      <td>0</td>\n",
       "    </tr>\n",
       "    <tr>\n",
       "      <th>19</th>\n",
       "      <td>ARH STUDIOS INC.</td>\n",
       "      <td>1</td>\n",
       "      <td>0</td>\n",
       "      <td>0</td>\n",
       "      <td>0</td>\n",
       "      <td>0</td>\n",
       "      <td>0</td>\n",
       "      <td>0</td>\n",
       "      <td>0</td>\n",
       "    </tr>\n",
       "  </tbody>\n",
       "</table>\n",
       "</div>"
      ],
      "text/plain": [
       "                            EMPLOYER_NAME  CERTIFIED  CERTIFIED-WITHDRAWN  \\\n",
       "0                   PATHWAY BIOLOGIC, LLC          1                    0   \n",
       "1              TCL RESEARCH AMERICA, INC.         14                    0   \n",
       "2                     UNIVERSITY OF MAINE         97                    1   \n",
       "3                            P2F HOLDINGS          2                    0   \n",
       "4                               M2S, INC.         11                    0   \n",
       "5                       NANOVIRICIDES INC          1                    0   \n",
       "6         ARIZONA CANCER SPECIALISTS, PLC          1                    0   \n",
       "7                     CLARITY MONEY, INC.          1                    0   \n",
       "8                W.R. BERKLEY CORPORATION          5                    0   \n",
       "9                  S. VINODKUMAR USA INC.          4                    0   \n",
       "10               CENTRAL FLORIDA BROADCAT          0                    0   \n",
       "11                     SPECIAL OPTICS,INC          1                    0   \n",
       "12                      SWEETWATER COUNTY          1                    0   \n",
       "13                     WONDERTREATS, INC.          2                    0   \n",
       "14  T.K.CHEN INTERNATIONAL ADVISORS, LTD.          1                    0   \n",
       "15              THE GRENADIER CORPORATION          1                    0   \n",
       "16     MCCONNOR MEADE RISK MANAGEMENT LLC          1                    0   \n",
       "17              SONORA COMMUNITY HOSPITAL          1                    0   \n",
       "18                          JOBHIVE, INC.          1                    0   \n",
       "19                       ARH STUDIOS INC.          1                    0   \n",
       "\n",
       "    DENIED  INVALIDATED  NA  PENDING REVIEW  REJECTED  WITHDRAWN  \n",
       "0        0            0   0               0         0          0  \n",
       "1        0            0   0               0         0          1  \n",
       "2        3            0   0               0         0          5  \n",
       "3        0            0   0               0         0          0  \n",
       "4        0            0   0               0         0          0  \n",
       "5        2            0   0               0         0          0  \n",
       "6        0            0   0               0         0          0  \n",
       "7        0            0   0               0         0          0  \n",
       "8        0            0   0               0         0          2  \n",
       "9        0            0   0               0         0          0  \n",
       "10       1            0   0               0         0          0  \n",
       "11       0            0   0               0         0          0  \n",
       "12       0            0   0               0         0          0  \n",
       "13       0            0   0               0         0          0  \n",
       "14       0            0   0               0         0          0  \n",
       "15       0            0   0               0         0          0  \n",
       "16       0            0   0               0         0          0  \n",
       "17       0            0   0               0         0          0  \n",
       "18       0            0   0               0         0          0  \n",
       "19       0            0   0               0         0          0  "
      ]
     },
     "execution_count": 134,
     "metadata": {},
     "output_type": "execute_result"
    }
   ],
   "source": [
    "pd.DataFrame(df.crosstab('EMPLOYER_NAME', 'CASE_STATUS').take(20), columns=[\"EMPLOYER_NAME\", \"CERTIFIED\", \"CERTIFIED-WITHDRAWN\", \"DENIED\", \"INVALIDATED\", \"NA\", \"PENDING REVIEW\", \"REJECTED\", \"WITHDRAWN\"])"
   ]
  },
  {
   "cell_type": "markdown",
   "metadata": {},
   "source": [
    "If you are comfortable with SQL queries, you can use them straight away if you create a Global Temporary View\n",
    "first."
   ]
  },
  {
   "cell_type": "markdown",
   "metadata": {},
   "source": [
    "Top10 companies getting visa approval (for all the years):"
   ]
  },
  {
   "cell_type": "code",
   "execution_count": 151,
   "metadata": {},
   "outputs": [],
   "source": [
    "df.createGlobalTempView(\"df\")"
   ]
  },
  {
   "cell_type": "code",
   "execution_count": 152,
   "metadata": {},
   "outputs": [
    {
     "name": "stdout",
     "output_type": "stream",
     "text": [
      "+--------------------+---------------+\n",
      "|       EMPLOYER_NAME|CERTIFIED_COUNT|\n",
      "+--------------------+---------------+\n",
      "|     INFOSYS LIMITED|         129916|\n",
      "|TATA CONSULTANCY ...|          64237|\n",
      "|       WIPRO LIMITED|          43476|\n",
      "|DELOITTE CONSULTI...|          36120|\n",
      "|       ACCENTURE LLP|          32911|\n",
      "|IBM INDIA PRIVATE...|          27745|\n",
      "|MICROSOFT CORPORA...|          22333|\n",
      "|   HCL AMERICA, INC.|          22234|\n",
      "|ERNST & YOUNG U.S...|          17874|\n",
      "|LARSEN & TOUBRO I...|          16652|\n",
      "+--------------------+---------------+\n",
      "only showing top 10 rows\n",
      "\n"
     ]
    }
   ],
   "source": [
    "spark.sql(\"SELECT EMPLOYER_NAME, count(EMPLOYER_NAME) as CERTIFIED_COUNT FROM df where CASE_STATUS = 'CERTIFIED' GROUP BY EMPLOYER_NAME order by CERTIFIED_COUNT desc\").show(10)"
   ]
  },
  {
   "cell_type": "markdown",
   "metadata": {},
   "source": [
    "Top10 companies getting visa approval (for year 2016)"
   ]
  },
  {
   "cell_type": "code",
   "execution_count": 154,
   "metadata": {},
   "outputs": [
    {
     "name": "stdout",
     "output_type": "stream",
     "text": [
      "+--------------------+---------------+\n",
      "|       EMPLOYER_NAME|CERTIFIED_COUNT|\n",
      "+--------------------+---------------+\n",
      "|     INFOSYS LIMITED|          25322|\n",
      "|CAPGEMINI AMERICA...|          15957|\n",
      "|TATA CONSULTANCY ...|          13072|\n",
      "|       WIPRO LIMITED|           9528|\n",
      "|       ACCENTURE LLP|           9374|\n",
      "|IBM INDIA PRIVATE...|           7824|\n",
      "|DELOITTE CONSULTI...|           7500|\n",
      "|TECH MAHINDRA (AM...|           6681|\n",
      "|   HCL AMERICA, INC.|           4917|\n",
      "|MICROSOFT CORPORA...|           4669|\n",
      "+--------------------+---------------+\n",
      "only showing top 10 rows\n",
      "\n"
     ]
    }
   ],
   "source": [
    "spark.sql(\"SELECT EMPLOYER_NAME, count(EMPLOYER_NAME) as CERTIFIED_COUNT FROM df where CASE_STATUS = 'CERTIFIED' AND YEAR='2016' GROUP BY EMPLOYER_NAME order by CERTIFIED_COUNT desc\").show(10)"
   ]
  },
  {
   "cell_type": "markdown",
   "metadata": {},
   "source": [
    "Worksites for which most number of visas are approved or certified"
   ]
  },
  {
   "cell_type": "code",
   "execution_count": 155,
   "metadata": {},
   "outputs": [
    {
     "name": "stdout",
     "output_type": "stream",
     "text": [
      "+--------------------+--------------+\n",
      "|            WORKSITE|APPROVED_COUNT|\n",
      "+--------------------+--------------+\n",
      "|  NEW YORK, NEW YORK|        163982|\n",
      "|      HOUSTON, TEXAS|         71540|\n",
      "|SAN FRANCISCO, CA...|         54336|\n",
      "|    ATLANTA, GEORGIA|         46877|\n",
      "|   CHICAGO, ILLINOIS|         45249|\n",
      "|SAN JOSE, CALIFORNIA|         44305|\n",
      "|SUNNYVALE, CALIFO...|         30294|\n",
      "|CHARLOTTE, NORTH ...|         27966|\n",
      "|       DALLAS, TEXAS|         27810|\n",
      "| REDMOND, WASHINGTON|         27419|\n",
      "+--------------------+--------------+\n",
      "only showing top 10 rows\n",
      "\n"
     ]
    }
   ],
   "source": [
    "spark.sql(\"SELECT WORKSITE, count(CASE_STATUS) as APPROVED_COUNT FROM df where CASE_STATUS = 'CERTIFIED' GROUP BY WORKSITE order by APPROVED_COUNT desc\").show(10)"
   ]
  },
  {
   "cell_type": "markdown",
   "metadata": {},
   "source": [
    "TOP 5 JOB TITLE for which visa are approved"
   ]
  },
  {
   "cell_type": "code",
   "execution_count": 160,
   "metadata": {},
   "outputs": [
    {
     "name": "stdout",
     "output_type": "stream",
     "text": [
      "+--------------------+--------------+\n",
      "|           JOB_TITLE|VISAS_APPROVED|\n",
      "+--------------------+--------------+\n",
      "|  PROGRAMMER ANALYST|        222730|\n",
      "|   SOFTWARE ENGINEER|        102990|\n",
      "| COMPUTER PROGRAMMER|         64018|\n",
      "|     SYSTEMS ANALYST|         55744|\n",
      "|  SOFTWARE DEVELOPER|         37771|\n",
      "|    BUSINESS ANALYST|         35202|\n",
      "|COMPUTER SYSTEMS ...|         31433|\n",
      "|TECHNOLOGY LEAD - US|         28280|\n",
      "|TECHNOLOGY ANALYS...|         25985|\n",
      "|SENIOR SOFTWARE E...|         23547|\n",
      "+--------------------+--------------+\n",
      "only showing top 10 rows\n",
      "\n"
     ]
    }
   ],
   "source": [
    "spark.sql(\"SELECT JOB_TITLE, count(CASE_STATUS) as VISAS_APPROVED FROM df where CASE_STATUS = 'CERTIFIED' GROUP BY JOB_TITLE order by VISAS_APPROVED desc\").show(10)"
   ]
  },
  {
   "cell_type": "code",
   "execution_count": 161,
   "metadata": {},
   "outputs": [
    {
     "ename": "AttributeError",
     "evalue": "'SparkSession' object has no attribute 'quit'",
     "output_type": "error",
     "traceback": [
      "\u001b[0;31m---------------------------------------------------------------------------\u001b[0m",
      "\u001b[0;31mAttributeError\u001b[0m                            Traceback (most recent call last)",
      "\u001b[0;32m<ipython-input-161-17e3d2febe4f>\u001b[0m in \u001b[0;36m<module>\u001b[0;34m()\u001b[0m\n\u001b[0;32m----> 1\u001b[0;31m \u001b[0mspark\u001b[0m\u001b[0;34m.\u001b[0m\u001b[0mquit\u001b[0m\u001b[0;34m(\u001b[0m\u001b[0;34m)\u001b[0m\u001b[0;34m\u001b[0m\u001b[0m\n\u001b[0m",
      "\u001b[0;31mAttributeError\u001b[0m: 'SparkSession' object has no attribute 'quit'"
     ]
    }
   ],
   "source": [
    "spark.stop()"
   ]
  }
 ],
 "metadata": {
  "kernelspec": {
   "display_name": "Python3 (spark)",
   "language": "python",
   "name": "spark"
  },
  "language_info": {
   "codemirror_mode": {
    "name": "ipython",
    "version": 3
   },
   "file_extension": ".py",
   "mimetype": "text/x-python",
   "name": "python",
   "nbconvert_exporter": "python",
   "pygments_lexer": "ipython3",
   "version": "3.6.4"
  }
 },
 "nbformat": 4,
 "nbformat_minor": 2
}
